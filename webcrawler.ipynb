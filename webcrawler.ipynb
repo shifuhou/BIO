{
 "cells": [
  {
   "cell_type": "code",
   "execution_count": 1,
   "metadata": {},
   "outputs": [],
   "source": [
    "import requests\n",
    "from bs4 import BeautifulSoup\n",
    "from Bio import Entrez\n",
    "import time\n",
    "import os\n"
   ]
  },
  {
   "cell_type": "code",
   "execution_count": 2,
   "metadata": {},
   "outputs": [],
   "source": [
    "def download_pdf_with_retry(url, file_path, headers=None, num_retries=3):\n",
    "    retries = 0\n",
    "    success = False\n",
    "    while retries < num_retries and not success:\n",
    "        try:\n",
    "            response = requests.get(url, headers=headers)\n",
    "            response.raise_for_status()  # 如果响应状态码不是200，将引发HTTPError异常\n",
    "            with open(file_path, 'wb') as f:\n",
    "                f.write(response.content)\n",
    "            success = True\n",
    "        except requests.HTTPError as e:\n",
    "            print(f\"Attempt {retries + 1} failed for {url}: {e}\")\n",
    "            retries += 1\n",
    "            time.sleep(5)  # 在重试之间稍微延迟一下，避免连续请求\n",
    "\n",
    "def search_pubmed_and_download_pdfs(email, term, download_folder=\"new_pdfs\"):\n",
    "    Entrez.email = email  # 请将其替换为您自己的电子邮件地址\n",
    "    user_agent = \"Mozilla/5.0 (Windows NT 10.0; Win64; x64) AppleWebKit/537.36 (KHTML, like Gecko) Chrome/94.0.4606.71 Safari/537.36\"\n",
    "    headers = {\"User-Agent\": user_agent}\n",
    "\n",
    "    if not os.path.exists(download_folder):\n",
    "        os.makedirs(download_folder)\n",
    "\n",
    "    with requests.Session() as session:  # 使用会话保持某些状态（例如cookies）\n",
    "        session.headers.update(headers)\n",
    "\n",
    "        # 使用Entrez搜索PubMed条目\n",
    "        handle = Entrez.esearch(db=\"pubmed\", term=term, retmax=20)\n",
    "        record = Entrez.read(handle)\n",
    "        handle.close()\n",
    "\n",
    "        for pubmed_id in record[\"IdList\"]:\n",
    "            try:\n",
    "                # 尝试获取PMC ID，以构造PDF URL\n",
    "                handle = Entrez.elink(dbfrom=\"pubmed\", id=pubmed_id, linkname=\"pubmed_pmc\")\n",
    "                record = Entrez.read(handle)\n",
    "                handle.close()\n",
    "\n",
    "                pmc_id_links = record[0][\"LinkSetDb\"]\n",
    "                if pmc_id_links and 'Link' in pmc_id_links[0]:\n",
    "                    pmc_id = pmc_id_links[0][\"Link\"][0][\"Id\"]\n",
    "                    pdf_url = f\"https://www.ncbi.nlm.nih.gov/pmc/articles/PMC{pmc_id}/pdf/\"\n",
    "                    file_path = os.path.join(download_folder, f\"PMC{pmc_id}.pdf\")\n",
    "\n",
    "                    download_pdf_with_retry(pdf_url, file_path, headers=headers, num_retries=3)\n",
    "                else:\n",
    "                    print(f\"No PMC article available for PubMed ID: {pubmed_id}\")\n",
    "            except Exception as e:\n",
    "                print(f\"Error occurred for PubMed ID {pubmed_id}: {e}\")"
   ]
  },
  {
   "cell_type": "code",
   "execution_count": null,
   "metadata": {},
   "outputs": [],
   "source": []
  },
  {
   "cell_type": "code",
   "execution_count": 4,
   "metadata": {},
   "outputs": [],
   "source": [
    "# 替换以下字段，并运行函数\n",
    "your_email = \"shou@nd.edu\"  # 请用您的邮箱地址替换\n",
    "search_term = \"Differential Oxygen Exposure Modulates Mesenchymal Stem Cell Metabolism and Proliferation through mTOR Signaling\"  # 请输入您的搜索关键词\n",
    "search_pubmed_and_download_pdfs(your_email, search_term)\n"
   ]
  },
  {
   "cell_type": "code",
   "execution_count": 2,
   "metadata": {},
   "outputs": [
    {
     "name": "stdout",
     "output_type": "stream",
     "text": [
      "35409106\n"
     ]
    }
   ],
   "source": [
    "from Bio import Entrez\n",
    "import json\n",
    "\n",
    "# 设置您的邮箱地址（必须），这是Entrez API的要求\n",
    "Entrez.email = \"shou@nd.edu\"\n",
    "\n",
    "# 指定要搜索的关键词\n",
    "search_term = \"Differential Oxygen Exposure Modulates Mesenchymal Stem Cell Metabolism and Proliferation through mTOR Signaling\"\n",
    "\n",
    "# 使用Entrez的esearch函数搜索文章，并获取PubMed ID（PMID）列表\n",
    "search_results = Entrez.esearch(db=\"pubmed\", term=search_term, retmax=2)  # 设置retmax以限制结果数量\n",
    "search_results = Entrez.read(search_results)\n",
    "\n",
    "# 获取文章的摘要（abstract）\n",
    "pmids = search_results[\"IdList\"]\n",
    "for pmid in pmids:\n",
    "    print(pmid)\n",
    "    # 使用Entrez的efetch函数获取PubMed文章的详细信息，包括摘要\n",
    "    article = Entrez.efetch(db=\"pubmed\", id=pmid, retmode=\"xml\")\n",
    "    xml_data = Entrez.read(article)\n",
    "    formatted_xml = json.dumps(xml_data, indent=4)\n",
    "    # print(formatted_xml)\n",
    "    \n",
    "    # print(xml_data['PubmedArticle'][0]['MedlineCitation']['Article'])\n",
    "    # 提取摘要部分\n",
    "    # abstract = xml_data['PubmedArticle'][0]['MedlineCitation']['Article']['Abstract']['AbstractText']\n",
    "    \n",
    "    # 打印摘要\n",
    "    # print(f\"PMID: {pmid}\")\n",
    "    # print(f\"Abstract: {abstract}\\n\")\n",
    "\n"
   ]
  }
 ],
 "metadata": {
  "kernelspec": {
   "display_name": "bio",
   "language": "python",
   "name": "python3"
  },
  "language_info": {
   "codemirror_mode": {
    "name": "ipython",
    "version": 3
   },
   "file_extension": ".py",
   "mimetype": "text/x-python",
   "name": "python",
   "nbconvert_exporter": "python",
   "pygments_lexer": "ipython3",
   "version": "3.10.13"
  }
 },
 "nbformat": 4,
 "nbformat_minor": 2
}
