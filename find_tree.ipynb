{
 "cells": [
  {
   "cell_type": "code",
   "execution_count": 1,
   "metadata": {},
   "outputs": [],
   "source": [
    "import fitz  # PyMuPDF\n",
    "import io\n",
    "from PIL import Image\n",
    "import os\n",
    "from pdfminer.high_level import extract_pages\n",
    "from pdfminer.layout import LTTextContainer, LTImage, LTFigure,LTTextBox\n",
    "import pandas as pd\n",
    "import pdfplumber\n",
    "import requests\n",
    "import PyPDF2\n",
    "from PyPDF2 import PageObject\n",
    "import time"
   ]
  },
  {
   "cell_type": "code",
   "execution_count": 23,
   "metadata": {},
   "outputs": [],
   "source": [
    "def extract_paragraph_from_pdf(pdf_path,start_word,end_word):\n",
    "    pdf = fitz.open(pdf_path)\n",
    "    paragraph =''\n",
    "    for page_num in range(pdf.page_count):\n",
    "        page = pdf.load_page(page_num)\n",
    "        text = page.get_text(\"text\")\n",
    "        print(page_num,\"=======================\")\n",
    "        # print(text)\n",
    "        # 搜索 'Abstract' 关键字的位置\n",
    "        start_idx = text.lower().find(start_word)\n",
    "        print(start_idx)\n",
    "        if start_idx != -1:\n",
    "            \n",
    "            # 如果找到了 'Abstract'，那么继续搜索 'Introduction' 作为结束位置\n",
    "            end_idx = text.lower().find(end_word, start_idx)\n",
    "            if end_idx == -1:\n",
    "                # 如果没有找到 'Introduction'，则提取从 'Abstract' 开始的其余文本\n",
    "                end_idx = len(text)\n",
    "                \n",
    "                paragraph = text[start_idx:end_idx].strip()\n",
    "            else:\n",
    "                paragraph = text[start_idx:].strip()\n",
    "    if len(paragraph)==0 :\n",
    "        print('Can not find introduction!')\n",
    "    pdf.close()\n",
    "    print(paragraph)\n",
    "    return paragraph"
   ]
  },
  {
   "cell_type": "code",
   "execution_count": 16,
   "metadata": {},
   "outputs": [
    {
     "name": "stdout",
     "output_type": "stream",
     "text": [
      "==============================\n",
      "4 figures and legends extracted.\n"
     ]
    },
    {
     "data": {
      "text/plain": [
       "(['Figure 1. Hypoxic stimuli have opposing effects on UC-MSC proliferation. UC-MSCs were cultured\\nunder different O2 and CoCl2 levels—control (21% O2), and moderate (5% O2 and 10 µM CoCl2)\\nand severe (<1% O2 and 250 µM CoCl2) hypoxia—and cultured with INK-128, for 24 and 48 h.\\n(A) Representative images of plated UC-MSCs treated under control and experimental conditions,\\ncaptured in a phase-contrast microscope (10× magniﬁcation). (B) Total number of live cells counted\\nafter 24 and 48 h incubation period, under control and experimental conditions, from a minimum\\nof 3 independent experiments. Results are represented as means with SEM. Statistical signiﬁcance\\nconsidered when * p < 0.05%, ** p < 0.01 and *** p < 0.001. (C) Representative ﬂow cytometry dot plot\\nand the respective 24 h (D) and 48 h (F) quantiﬁcation of live, early apoptotic, late apoptotic, and\\nnecrotic populations through Annexin V/PI staining. (E) Enhanced scale of the early apoptosis bars\\nof graph D.\\n',\n",
       "  'Figure 2. Comparative analysis of the effects of hypoxia and CoCl2 on UC-MSC metabolism. UC-\\nMSCs were cultured for 24 and 48 h under different O2 levels (21%, 5%, <1%) or CoCl2 concentrations\\n(10 µM and 250 µM); cells were treated with the mTOR dual inhibitor INK-128 as a positive control for\\na quiescent state. To assess both the oxidative metabolism and the extracellular acidiﬁcation rate of UC-\\nMSC, OCR and ECAR were measured, respectively, with a Seahorse XF24 Analyzer. Three measures\\nwere performed after each drug injection. (A,B) Schematic image of the metabolic modulator injection\\nsequence and the parameters that could be obtained with the OCR and ECAR assays. (A) OCR proﬁle\\nthroughout the experiment, (C) basal respiration, (D) ATP-linked respiration, (E) spare capacity,\\nand (F) oxygen maximal consumption. (B) ECAR proﬁle throughout the experiment, (G) glycolysis,\\n(H) glycolytic capacity, (I) glycolytic reserve, and (J) non-glycolytic acidiﬁcation. Spare capacity (OCR)\\nand glycolytic reserve (ECAR), not represented in the image, were calculated using the formulas\\n(maximal respiration—ATP-linked respiration) and (glycolytic capacity—glycolysis), respectively.\\nProtein level analysis of (K) COX IV and (L) p-LDHA/LDHA and the (M) respective representative\\nimages, performed through Western blot. The values were normalized by the expression of the\\nloading control calnexin (CNX). The values are represented as means with SEM of at least three\\nindependent experiments. Statistical signiﬁcance considered when * p < 0.05%, ** p < 0.01, and\\n*** p < 0.001.\\n',\n",
       "  'Figure 3. Effect of hypoxia on UC-MSCs is linked to the mTOR pathway. UC-MSCs underwent control\\n(21% O2 and INK-128) and experimental conditions (5% O2, <1% O2, 10 µM CoCl2, and 250 µMCoCl2)\\nfor 24 and 48 h, after which protein analysis was carried out via Western blot. (A–C) Protein band\\nquantiﬁcation of two mTORC1 targets (p-4EBP1/4EBP1 and p-S6K1/S6K1) and a mTORC2 target\\n(p-Akt/Akt), normalized to the loading control calnexin (CNX). The ratio between phosphorylated\\nand total forms could be used to infer protein function. (D) Representative immunoblot of the\\ntotal and of the respective phosphorylated form of the 4EBP1, S6K1, and Akt proteins. Results are\\nrepresented as means with SEM of a minimum of 3 independent experiments. Statistical signiﬁcance\\nconsidered when * p < 0.05%, ** p < 0.01, and *** p < 0.001.\\n',\n",
       "  'Figure 4. Effects of the different hypoxia conditions on UC-MSC behavior described in this work.\\n'],\n",
       " [<PIL.Image.Image image mode=RGB size=1781x2723>,\n",
       "  <PIL.Image.Image image mode=RGB size=1837x2870>,\n",
       "  <PIL.Image.Image image mode=RGB size=2015x3162>,\n",
       "  <PIL.Image.Image image mode=RGB size=2267x3012>])"
      ]
     },
     "execution_count": 16,
     "metadata": {},
     "output_type": "execute_result"
    }
   ],
   "source": [
    "def extract_images_and_text_below(pdf_path, output_folder):\n",
    "    if not os.path.exists(output_folder):\n",
    "        os.makedirs(output_folder)\n",
    "\n",
    "    pdf = fitz.open(pdf_path)\n",
    "    pdf_img = pdfplumber.open(pdf_path) \n",
    "    output_imgs = []\n",
    "    output_texts = []\n",
    "    for page_num, page_layout in enumerate(extract_pages(pdf_path)):\n",
    "        if (page_num ==0):\n",
    "            continue\n",
    "        page = pdf_img.pages[page_num]\n",
    "        im = page.to_image(resolution=300)  # 高分辨率转换页面为图片\n",
    "        pil_image = im.original\n",
    "        pil_height = pil_image.height\n",
    "        images = []\n",
    "        text_blocks = []\n",
    "        \n",
    "\n",
    "        # 获取图像和文本块的位置信息\n",
    "        for element in page_layout:\n",
    "            # print(element)\n",
    "            if isinstance(element, LTFigure):\n",
    "                bbox = (element.bbox[0], element.bbox[1], element.bbox[2], element.bbox[3])\n",
    "                bbox = element.bbox\n",
    "                bbox_adjust = [0,0,0,0]\n",
    "                for i in range(4):\n",
    "                    bbox_adjust[i] = bbox[i] * pil_height /  page.height\n",
    "                pil_bbox = (bbox_adjust[0], pil_height - bbox_adjust[3], bbox_adjust[2], pil_height - bbox_adjust[1])\n",
    "                # 在 PIL.Image 对象上裁剪图片\n",
    "                cropped_im = pil_image.crop(pil_bbox)\n",
    "                images.append((element.bbox,cropped_im))\n",
    "            elif isinstance(element, LTTextBox):\n",
    "                text_blocks.append((element.bbox, element.get_text()))\n",
    "        page = pdf[page_num]\n",
    "        for i, (img_bbox,img) in enumerate(images):\n",
    "            # 找到距离图片最近的文本块\n",
    "            nearest_text = None\n",
    "            min_distance = float('inf')\n",
    "            img_x0, img_y0, img_x1, img_y1 = img_bbox\n",
    "            for text_bbox, text_content in text_blocks:\n",
    "                text_x0, text_y0, text_x1, text_y1 = text_bbox\n",
    "                if text_y1 <= img_y0:  # 文本块位于图像下方\n",
    "                    distance = (img_y0 - text_y1) + abs(img_x0-text_x0)   # 计算文本块和图像的垂直距离\n",
    "                    if distance < min_distance:\n",
    "                        min_distance = distance\n",
    "                        nearest_text = text_content\n",
    "            if nearest_text:\n",
    "                # 使用 PDFMiner 提取并保存最近的文本块\n",
    "                text_filename = f\"page{page_num + 1}_text_below_img{i + 1}.txt\"\n",
    "                text_filepath = os.path.join(output_folder, text_filename)\n",
    "                with open(text_filepath, \"w\", encoding=\"utf-8\") as f:\n",
    "                    f.write(nearest_text)\n",
    "\n",
    "                img_filename = f\"page{page_num + 1}_img{i + 1}.png\"\n",
    "                img_filepath = os.path.join(output_folder, img_filename)\n",
    "                img.save(img_filepath)\n",
    "\n",
    "                output_texts.append(nearest_text)\n",
    "                output_imgs.append(img)\n",
    "    pdf.close()\n",
    "    print(\"==============================\")\n",
    "    print(f\"{len(output_imgs)} figures and legends extracted.\")\n",
    "    return output_texts,output_imgs\n",
    "\n",
    "output_folder = \"extracted_images\"\n",
    "extract_images_and_text_below('new_pdfs\\PMC8998189.pdf',output_folder)"
   ]
  },
  {
   "cell_type": "code",
   "execution_count": 4,
   "metadata": {},
   "outputs": [
    {
     "data": {
      "text/plain": [
       "'����������\\n�������\\nCitation: Moniz, I.; Ramalho-Santos,\\nJ.; Branco, A.F. Differential Oxygen\\nExposure Modulates Mesenchymal\\nStem Cell Metabolism and\\nProliferation through mTOR\\nSignaling. Int. J. Mol. Sci. 2022, 23,\\n3749. https://doi.org/10.3390/\\nijms23073749\\nAcademic Editor: Aleksandra\\nKlimczak\\nReceived: 22 February 2022\\nAccepted: 25 March 2022\\nPublished: 29 March 2022\\nPublisher’s Note: MDPI stays neutral\\nwith regard to jurisdictional claims in\\npublished maps and institutional afﬁl-\\niations.\\nCopyright:\\n© 2022 by the authors.\\nLicensee MDPI, Basel, Switzerland.\\nThis article is an open access article\\ndistributed\\nunder\\nthe\\nterms\\nand\\nconditions of the Creative Commons\\nAttribution (CC BY) license (https://\\ncreativecommons.org/licenses/by/\\n4.0/).\\n \\nInternational Journal of \\nMolecular Sciences\\nArticle\\nDifferential Oxygen Exposure Modulates Mesenchymal Stem\\nCell Metabolism and Proliferation through mTOR Signaling\\nInês Moniz 1\\n, João Ramalho-Santos 1,2,*\\nand Ana F. Branco 1,*\\n1\\nCNC—Centre for Neuroscience and Cell Biology, CIBB—Centre for Innovative Biomedicine\\nand Biotechnology, University of Coimbra, Azinhaga de Santa Comba, Polo 3, 3000-548 Coimbra, Portugal;\\ninescalasimo@hotmail.com\\n2\\nDepartment of Life Sciences, University of Coimbra, Calçada Martim de Freitas, 3000-456 Coimbra, Portugal\\n*\\nCorrespondence: jramalho@uc.pt (J.R.-S.); abranco@fmed.uc.pt (A.F.B.)\\nAbstract: Mesenchymal stem cells reside under precise hypoxic conditions that are paramount in\\ndetermining cell fate and behavior (metabolism, proliferation, differentiation, etc.). In this work, we\\nshow that different oxygen tensions promote a distinct proliferative response and affect the biosyn-\\nthetic demand and global metabolic proﬁle of umbilical cord-mesenchymal stem cells (UC-MSCs).\\nUsing both gas-based strategies and CoCl2 as a substitute for the costly hypoxic chambers, we found\\nthat speciﬁc oxygen tensions inﬂuence the fate of UC-MSCs differently. While 5% O2 potentiates pro-\\nliferation, stimulates biosynthetic pathways, and promotes a global hypermetabolic proﬁle, exposure\\nto <1% O2 contributes to a quiescent-like cell state that relies heavily on anaerobic glycolysis. We\\nshow that using CoCl2 as a hypoxia substitute of moderate hypoxia has distinct metabolic effects,\\nwhen compared with gas-based strategies. The present study also highlights that, while severe\\nhypoxia regulates global translation via mTORC1 modulation, its effects on survival-related mecha-\\nnisms are mainly modulated through mTORC2. Therefore, the experimental conditions used in this\\nstudy establish a robust and reliable hypoxia model for UC-MSCs, providing relevant insights into\\nhow stem cells are inﬂuenced by their physiological environment, and how different strategies of\\nmodulating hypoxia may inﬂuence experimental outcomes.\\nKeywords: mesenchymal stem cells; hypoxia; metabolism; mTOR; cobalt chloride\\n1. Introduction\\nMesenchymal stem cells (MSCs) have been consistently reported as promising candi-\\ndates in functional tissue engineering and regenerative therapies [1–3]. The umbilical cord\\ncomprises a speciﬁc stem cell niche where precise oxygen (O2) levels are paramount to\\nmaintain and optimize stem cell function. In this tissue, umbilical cord-mesenchymal stem\\ncells (UC-MSCs) reside under hypoxic conditions, ranging from less than 1% O2 (severe\\nhypoxia) to 5% O2 (moderate hypoxia) [4].\\nThe hypoxia-inducible factor 1 (HIF-1) complex has emerged as one of the main\\ncomponents of hypoxia response in most cell lines [5,6]. One of its isomers, HIF-1α, is a\\ntranscriptional factor regulated by O2 and mobilized by hypoxia, with the crucial role of\\nsuppressing mitochondrial respiration while increasing glycolytic enzyme expression [6].\\nGiven that MSCs reside under these hypoxic physiological settings, in vitro culture un-\\nder atmospheric oxygen concentrations (21% O2, normoxia) can be detrimental to the\\ntherapeutic value of MSCs, by hindering their plasticity, proliferation, and clonogenic\\ncapacity [7].\\nIn recent years, hypoxia preconditioning has been acknowledged as an adequate\\npriming technique to both enhance and preserve MSC bioactivity and biological identity,\\nrespectively [8]. Nevertheless, studies on hypoxia preconditioning predominantly show\\nthe effects of moderate hypoxia on MSC differentiation and expansion—with several au-\\nthors reporting an increase in proliferation following hypoxic treatment [9–11]. However,\\nInt. J. Mol. Sci. 2022, 23, 3749. https://doi.org/10.3390/ijms23073749\\nhttps://www.mdpi.com/journal/ijms\\n'"
      ]
     },
     "execution_count": 4,
     "metadata": {},
     "output_type": "execute_result"
    }
   ],
   "source": [
    "introduction"
   ]
  }
 ],
 "metadata": {
  "kernelspec": {
   "display_name": "bio",
   "language": "python",
   "name": "python3"
  },
  "language_info": {
   "codemirror_mode": {
    "name": "ipython",
    "version": 3
   },
   "file_extension": ".py",
   "mimetype": "text/x-python",
   "name": "python",
   "nbconvert_exporter": "python",
   "pygments_lexer": "ipython3",
   "version": "3.10.13"
  }
 },
 "nbformat": 4,
 "nbformat_minor": 2
}
