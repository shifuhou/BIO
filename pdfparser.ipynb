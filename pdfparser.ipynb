{
 "cells": [
  {
   "cell_type": "code",
   "execution_count": 1,
   "metadata": {},
   "outputs": [],
   "source": [
    "from pdfminer.high_level import extract_text\n",
    "import os\n",
    "from pdfminer.high_level import extract_pages\n",
    "from pdfminer.layout import LTImage,LTFigure"
   ]
  },
  {
   "cell_type": "code",
   "execution_count": 2,
   "metadata": {},
   "outputs": [],
   "source": [
    "def extract_pdf_text(pdf_path):\n",
    "    return extract_text(pdf_path)"
   ]
  },
  {
   "cell_type": "code",
   "execution_count": 3,
   "metadata": {},
   "outputs": [],
   "source": [
    "pdf_path = 'C:\\\\Users\\\\shifu\\\\bio\\\\pdfs\\\\PMC4182666.pdf'\n",
    "text = extract_pdf_text(pdf_path)\n"
   ]
  },
  {
   "cell_type": "code",
   "execution_count": 4,
   "metadata": {},
   "outputs": [],
   "source": [
    "def save_image(lt_image, page_num, output_folder):\n",
    "    img_file_path = os.path.join(output_folder, f\"image_p{page_num+1}_{lt_image.name}.JPEG\")\n",
    "    with open(img_file_path, 'wb') as img_file:\n",
    "        img_file.write(lt_image.stream.get_data())\n",
    "\n",
    "def extract_images_from_figure(lt_figure, page_num, output_folder):\n",
    "    for obj in lt_figure:\n",
    "        if isinstance(obj, LTImage):\n",
    "            save_image(obj, page_num, output_folder)\n",
    "        elif isinstance(obj, LTFigure):\n",
    "            extract_images_from_figure(obj, page_num, output_folder)\n",
    "\n",
    "def extract_images_from_pdf(pdf_path, output_folder):\n",
    "    if not os.path.exists(output_folder):\n",
    "        os.makedirs(output_folder)\n",
    "\n",
    "    for page_num, page_layout in enumerate(extract_pages(pdf_path)):\n",
    "        for obj in page_layout:\n",
    "            if isinstance(obj, LTFigure):\n",
    "                extract_images_from_figure(obj, page_num, output_folder)"
   ]
  },
  {
   "cell_type": "code",
   "execution_count": 5,
   "metadata": {},
   "outputs": [],
   "source": [
    "output_folder = \"extracted_images\"\n",
    "extract_images_from_pdf(pdf_path, output_folder)"
   ]
  },
  {
   "cell_type": "code",
   "execution_count": 6,
   "metadata": {},
   "outputs": [],
   "source": [
    "from pdf2image import convert_from_path"
   ]
  },
  {
   "cell_type": "code",
   "execution_count": 7,
   "metadata": {},
   "outputs": [],
   "source": [
    "import fitz\n",
    "import os\n",
    "\n",
    "def extract_images_from_pdf(pdf_path, output_folder):\n",
    "    if not os.path.exists(output_folder):\n",
    "        os.makedirs(output_folder)\n",
    "\n",
    "    pdf = fitz.open(pdf_path)\n",
    "    for page_num in range(pdf.page_count):\n",
    "        page = pdf.load_page(page_num)\n",
    "        image_list = page.get_images(full=True)\n",
    "        for img_index, img in enumerate(image_list):\n",
    "            xref = img[0]\n",
    "            base_image = pdf.extract_image(xref)\n",
    "            image_bytes = base_image[\"image\"]\n",
    "            image_filename = os.path.join(output_folder, f\"page{page_num + 1}_img{img_index + 1}.png\")\n",
    "            with open(image_filename, \"wb\") as image_file:\n",
    "                image_file.write(image_bytes)"
   ]
  },
  {
   "cell_type": "code",
   "execution_count": 8,
   "metadata": {},
   "outputs": [],
   "source": [
    "pdf_path = 'C:\\\\Users\\\\shifu\\\\bio\\\\new_pdfs\\\\PMC8998189.pdf'\n"
   ]
  },
  {
   "cell_type": "code",
   "execution_count": 9,
   "metadata": {},
   "outputs": [],
   "source": [
    "extract_images_from_pdf(pdf_path, output_folder)"
   ]
  }
 ],
 "metadata": {
  "kernelspec": {
   "display_name": "bio",
   "language": "python",
   "name": "python3"
  },
  "language_info": {
   "codemirror_mode": {
    "name": "ipython",
    "version": 3
   },
   "file_extension": ".py",
   "mimetype": "text/x-python",
   "name": "python",
   "nbconvert_exporter": "python",
   "pygments_lexer": "ipython3",
   "version": "3.10.13"
  }
 },
 "nbformat": 4,
 "nbformat_minor": 2
}
