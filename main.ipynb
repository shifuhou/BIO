{
 "cells": [
  {
   "cell_type": "code",
   "execution_count": 1,
   "metadata": {},
   "outputs": [],
   "source": [
    "from utils import *\n",
    "from Bio import Entrez\n",
    "import requests\n",
    "import pandas as pd\n",
    "import json\n",
    "from LLM_prompts import analysis_introduction,analysis_citation\n",
    "import re\n",
    "import logging,datetime\n",
    "import threading"
   ]
  },
  {
   "cell_type": "code",
   "execution_count": 3,
   "metadata": {},
   "outputs": [],
   "source": [
    "your_email = \"shou@nd.edu\"  # 请用您的邮箱地址替换\n",
    "download_folder = \"new_pdfs\"\n",
    "img_folder = \"imgs\"\n",
    "Entrez.email = your_email  # 请将其替换为您自己的电子邮件地址\n",
    "user_agent = \"Mozilla/5.0 (Windows NT 10.0; Win64; x64) AppleWebKit/537.36 (KHTML, like Gecko) Chrome/94.0.4606.71 Safari/537.36\"\n",
    "headers = {\"User-Agent\": user_agent}\n",
    "\n",
    "pmc_id = 1838638\n",
    "\n",
    "pdf_url = f\"https://www.ncbi.nlm.nih.gov/pmc/articles/PMC{pmc_id}/?report=reader/\"\n",
    "\n",
    "file_path = os.path.join(download_folder, f\"PMC{pmc_id}.html\")\n",
    "\n",
    "download_pdf_with_retry(pdf_url, file_path, headers=headers, num_retries=3)"
   ]
  }
 ],
 "metadata": {
  "kernelspec": {
   "display_name": "bio",
   "language": "python",
   "name": "python3"
  },
  "language_info": {
   "codemirror_mode": {
    "name": "ipython",
    "version": 3
   },
   "file_extension": ".py",
   "mimetype": "text/x-python",
   "name": "python",
   "nbconvert_exporter": "python",
   "pygments_lexer": "ipython3",
   "version": "3.10.13"
  }
 },
 "nbformat": 4,
 "nbformat_minor": 2
}
