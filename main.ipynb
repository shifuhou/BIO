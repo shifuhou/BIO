{
 "cells": [
  {
   "cell_type": "code",
   "execution_count": 2,
   "metadata": {},
   "outputs": [],
   "source": [
    "from utils import *\n",
    "from Bio import Entrez\n",
    "import requests\n",
    "import pandas as pd\n",
    "import json\n",
    "from LLM_prompts import analysis_introduction,analysis_citation\n",
    "import logging\n",
    "import re,datetime\n",
    "\n"
   ]
  },
  {
   "cell_type": "code",
   "execution_count": 15,
   "metadata": {},
   "outputs": [
    {
     "ename": "TypeError",
     "evalue": "read_csv() got an unexpected keyword argument 'ignore_index'",
     "output_type": "error",
     "traceback": [
      "\u001b[1;31m---------------------------------------------------------------------------\u001b[0m",
      "\u001b[1;31mTypeError\u001b[0m                                 Traceback (most recent call last)",
      "\u001b[1;32mc:\\Users\\shifu\\bio\\main.ipynb Cell 2\u001b[0m line \u001b[0;36m1\n\u001b[1;32m----> <a href='vscode-notebook-cell:/c%3A/Users/shifu/bio/main.ipynb#X24sZmlsZQ%3D%3D?line=0'>1</a>\u001b[0m df \u001b[39m=\u001b[39m pd\u001b[39m.\u001b[39;49mread_csv(\u001b[39m'\u001b[39;49m\u001b[39mpmc_queue.csv\u001b[39;49m\u001b[39m'\u001b[39;49m, ignore_index\u001b[39m=\u001b[39;49m\u001b[39mTrue\u001b[39;49;00m)\n",
      "\u001b[1;31mTypeError\u001b[0m: read_csv() got an unexpected keyword argument 'ignore_index'"
     ]
    }
   ],
   "source": [
    "df = pd.read_csv('pmc_queue.csv')"
   ]
  },
  {
   "cell_type": "code",
   "execution_count": 9,
   "metadata": {},
   "outputs": [
    {
     "data": {
      "text/html": [
       "<div>\n",
       "<style scoped>\n",
       "    .dataframe tbody tr th:only-of-type {\n",
       "        vertical-align: middle;\n",
       "    }\n",
       "\n",
       "    .dataframe tbody tr th {\n",
       "        vertical-align: top;\n",
       "    }\n",
       "\n",
       "    .dataframe thead th {\n",
       "        text-align: right;\n",
       "    }\n",
       "</style>\n",
       "<table border=\"1\" class=\"dataframe\">\n",
       "  <thead>\n",
       "    <tr style=\"text-align: right;\">\n",
       "      <th></th>\n",
       "      <th>pubmed_id</th>\n",
       "    </tr>\n",
       "  </thead>\n",
       "  <tbody>\n",
       "    <tr>\n",
       "      <th>0</th>\n",
       "      <td>35409106</td>\n",
       "    </tr>\n",
       "    <tr>\n",
       "      <th>1</th>\n",
       "      <td>35409106</td>\n",
       "    </tr>\n",
       "  </tbody>\n",
       "</table>\n",
       "</div>"
      ],
      "text/plain": [
       "   pubmed_id\n",
       "0   35409106\n",
       "1   35409106"
      ]
     },
     "execution_count": 9,
     "metadata": {},
     "output_type": "execute_result"
    }
   ],
   "source": [
    "df"
   ]
  },
  {
   "cell_type": "code",
   "execution_count": null,
   "metadata": {},
   "outputs": [],
   "source": []
  },
  {
   "cell_type": "code",
   "execution_count": 10,
   "metadata": {},
   "outputs": [],
   "source": [
    "df = pd.concat([df, pd.DataFrame([{'pubmed_id':35409106}])])"
   ]
  },
  {
   "cell_type": "code",
   "execution_count": 13,
   "metadata": {},
   "outputs": [],
   "source": [
    "df=df[1:]"
   ]
  },
  {
   "cell_type": "code",
   "execution_count": 14,
   "metadata": {},
   "outputs": [
    {
     "data": {
      "text/html": [
       "<div>\n",
       "<style scoped>\n",
       "    .dataframe tbody tr th:only-of-type {\n",
       "        vertical-align: middle;\n",
       "    }\n",
       "\n",
       "    .dataframe tbody tr th {\n",
       "        vertical-align: top;\n",
       "    }\n",
       "\n",
       "    .dataframe thead th {\n",
       "        text-align: right;\n",
       "    }\n",
       "</style>\n",
       "<table border=\"1\" class=\"dataframe\">\n",
       "  <thead>\n",
       "    <tr style=\"text-align: right;\">\n",
       "      <th></th>\n",
       "      <th>pubmed_id</th>\n",
       "    </tr>\n",
       "  </thead>\n",
       "  <tbody>\n",
       "    <tr>\n",
       "      <th>1</th>\n",
       "      <td>35409106</td>\n",
       "    </tr>\n",
       "    <tr>\n",
       "      <th>0</th>\n",
       "      <td>35409106</td>\n",
       "    </tr>\n",
       "  </tbody>\n",
       "</table>\n",
       "</div>"
      ],
      "text/plain": [
       "   pubmed_id\n",
       "1   35409106\n",
       "0   35409106"
      ]
     },
     "execution_count": 14,
     "metadata": {},
     "output_type": "execute_result"
    }
   ],
   "source": [
    "df"
   ]
  },
  {
   "cell_type": "code",
   "execution_count": 16,
   "metadata": {},
   "outputs": [
    {
     "data": {
      "text/plain": [
       "1    35409106\n",
       "2    35409106\n",
       "Name: pubmed_id, dtype: int64"
      ]
     },
     "execution_count": 16,
     "metadata": {},
     "output_type": "execute_result"
    }
   ],
   "source": [
    "df['pubmed_id']"
   ]
  },
  {
   "cell_type": "code",
   "execution_count": 2,
   "metadata": {},
   "outputs": [
    {
     "name": "stderr",
     "output_type": "stream",
     "text": [
      "2023-12-04 14:10:47,083 - utils - INFO - Citation: 12345\n",
      "2023-12-04 14:10:47,084 - utils - INFO - This is a sample citation.\n"
     ]
    }
   ],
   "source": [
    "log_file = \"my_log_file.log\"\n",
    "logger = setup_logger(log_file)\n",
    "\n",
    "ref = {'Citation': 'This is a sample citation.', 'ArticleIdList': '12345'}\n",
    "cite = \"Citation: {}\"\n",
    "logger.info(cite, ref['ArticleIdList'])\n",
    "logger.info(ref['Citation'])"
   ]
  },
  {
   "cell_type": "code",
   "execution_count": 5,
   "metadata": {},
   "outputs": [
    {
     "name": "stderr",
     "output_type": "stream",
     "text": [
      "2023-12-04 13:55:26,343 - utils - INFO - This is a message with two placeholders: 1 and 2\n"
     ]
    }
   ],
   "source": [
    "logger.info(\"This is a message with two placeholders: {} and {}\".format('1', '2'))"
   ]
  },
  {
   "cell_type": "markdown",
   "metadata": {},
   "source": []
  },
  {
   "cell_type": "code",
   "execution_count": 52,
   "metadata": {},
   "outputs": [],
   "source": [
    "def setup_logger(log_file):\n",
    "    # 创建一个Logger对象\n",
    "    logger = logging.getLogger(__name__)\n",
    "    logger.setLevel(logging.INFO)  # 设置日志级别为INFO或其他适当级别\n",
    "\n",
    "    # 创建一个文件处理程序，用于将日志写入指定的文件\n",
    "    file_handler = logging.FileHandler(log_file)\n",
    "\n",
    "    # 创建一个格式化程序，用于指定日志的格式\n",
    "    formatter = logging.Formatter('%(asctime)s - %(name)s - %(levelname)s - %(message)s')\n",
    "    file_handler.setFormatter(formatter)\n",
    "\n",
    "    # 将文件处理程序添加到Logger对象\n",
    "    logger.addHandler(file_handler)\n",
    "\n",
    "    return logger"
   ]
  },
  {
   "cell_type": "code",
   "execution_count": null,
   "metadata": {},
   "outputs": [],
   "source": [
    "log_file = \"my_log_file.log\"\n",
    "logger = setup_logger(log_file)\n",
    "logger.info(\"这是一个信息级别的日志消息\")"
   ]
  },
  {
   "cell_type": "code",
   "execution_count": 2,
   "metadata": {},
   "outputs": [
    {
     "name": "stdout",
     "output_type": "stream",
     "text": [
      "          0\n",
      "0  35409106\n"
     ]
    }
   ],
   "source": [
    "\n",
    "df = pd.read_csv('pmc_queue.csv',header=None)\n",
    "print(df)\n",
    "\n",
    "your_email = \"shou@nd.edu\"  # 请用您的邮箱地址替换\n",
    "download_folder = \"pdfs\"\n",
    "img_folder = \"imgs\"\n",
    "Entrez.email = your_email  # 请将其替换为您自己的电子邮件地址\n",
    "user_agent = \"Mozilla/5.0 (Windows NT 10.0; Win64; x64) AppleWebKit/537.36 (KHTML, like Gecko) Chrome/94.0.4606.71 Safari/537.36\"\n",
    "headers = {\"User-Agent\": user_agent}\n",
    "\n",
    "success_download_flag = False\n",
    "pubmed_id = str(df.iloc[0][0])\n",
    "article = Entrez.efetch(db=\"pubmed\", id=pubmed_id, retmode=\"xml\")\n",
    "xml_data = Entrez.read(article)\n",
    "abstract = xml_data['PubmedArticle'][0]['MedlineCitation']['Article']['Abstract']['AbstractText']\n",
    "title = xml_data['PubmedArticle'][0]['MedlineCitation']['Article']['ArticleTitle']\n",
    "ref = xml_data[\"PubmedArticle\"][0][\"PubmedData\"][\"ReferenceList\"][0][\"Reference\"]\n",
    "\n",
    "article.close()\n",
    "\n",
    "\n",
    "formatted_data = json.dumps(xml_data, indent=4)\n",
    "with open('text.xml','w') as f:\n",
    "    f.write(formatted_data)\n",
    "\n",
    "try:\n",
    "    # 尝试获取PMC ID，以构造PDF URL\n",
    "    handle = Entrez.elink(dbfrom=\"pubmed\", id=pubmed_id, linkname=\"pubmed_pmc\")\n",
    "    record = Entrez.read(handle)\n",
    "    handle.close()\n",
    "\n",
    "    pmc_id_links = record[0][\"LinkSetDb\"]\n",
    "    if pmc_id_links and 'Link' in pmc_id_links[0]:\n",
    "        pmc_id = pmc_id_links[0][\"Link\"][0][\"Id\"]\n",
    "        pdf_url = f\"https://www.ncbi.nlm.nih.gov/pmc/articles/PMC{pmc_id}/pdf/\"\n",
    "        file_path = os.path.join(download_folder, f\"PMC{pmc_id}.pdf\")\n",
    "\n",
    "        download_pdf_with_retry(pdf_url, file_path, headers=headers, num_retries=3)\n",
    "        success_download_flag =True\n",
    "    else:\n",
    "        print(f\"No PMC article available for PubMed ID: {pubmed_id}\")\n",
    "        success_download_flag = False\n",
    "\n",
    "except Exception as e:\n",
    "    print(f\"Error occurred for PubMed ID {pubmed_id}: {e}\")\n",
    "    success_download_flag = False\n"
   ]
  },
  {
   "cell_type": "code",
   "execution_count": 42,
   "metadata": {},
   "outputs": [
    {
     "data": {
      "text/plain": [
       "'Han Y., Li X., Zhang Y., Han Y., Chang F., Ding J. Mesenchymal Stem Cells for Regenerative Medicine. Cells. 2019;8:886. doi: 10.3390/cells8080886.'"
      ]
     },
     "execution_count": 42,
     "metadata": {},
     "output_type": "execute_result"
    }
   ],
   "source": [
    "ref[0]['Citation']"
   ]
  },
  {
   "cell_type": "code",
   "execution_count": 22,
   "metadata": {},
   "outputs": [
    {
     "name": "stdout",
     "output_type": "stream",
     "text": [
      "3 [StringElement('10.3390/cells8080886', attributes={'IdType': 'doi'}), StringElement('PMC6721852', attributes={'IdType': 'pmc'}), StringElement('31412678', attributes={'IdType': 'pubmed'})]\n",
      "PMC6721852\n",
      "3 [StringElement('10.15283/ijsc18034', attributes={'IdType': 'doi'}), StringElement('PMC6657936', attributes={'IdType': 'pmc'}), StringElement('31022994', attributes={'IdType': 'pubmed'})]\n",
      "PMC6657936\n",
      "3 [StringElement('10.1016/j.stem.2018.05.004', attributes={'IdType': 'doi'}), StringElement('PMC6434696', attributes={'IdType': 'pmc'}), StringElement('29859173', attributes={'IdType': 'pubmed'})]\n",
      "PMC6434696\n",
      "3 [StringElement('10.1111/j.1582-4934.2011.01258.x', attributes={'IdType': 'doi'}), StringElement('PMC4373326', attributes={'IdType': 'pmc'}), StringElement('21251211', attributes={'IdType': 'pubmed'})]\n",
      "PMC4373326\n",
      "3 [StringElement('10.3390/cells10092371', attributes={'IdType': 'doi'}), StringElement('PMC8472468', attributes={'IdType': 'pmc'}), StringElement('34572020', attributes={'IdType': 'pubmed'})]\n",
      "PMC8472468\n",
      "2 [StringElement('10.1016/j.jcyt.2014.02.009', attributes={'IdType': 'doi'}), StringElement('24726658', attributes={'IdType': 'pubmed'})]\n",
      "2 [StringElement('10.1016/j.placenta.2019.05.005', attributes={'IdType': 'doi'}), StringElement('31174623', attributes={'IdType': 'pubmed'})]\n",
      "3 [StringElement('10.3390/ijms18061320', attributes={'IdType': 'doi'}), StringElement('PMC5486141', attributes={'IdType': 'pmc'}), StringElement('28635661', attributes={'IdType': 'pubmed'})]\n",
      "PMC5486141\n",
      "3 [StringElement('10.3390/ijms21197092', attributes={'IdType': 'doi'}), StringElement('PMC7583852', attributes={'IdType': 'pmc'}), StringElement('32993025', attributes={'IdType': 'pubmed'})]\n",
      "PMC7583852\n",
      "3 [StringElement('10.7150/ijbs.6.499', attributes={'IdType': 'doi'}), StringElement('PMC2945278', attributes={'IdType': 'pmc'}), StringElement('20877435', attributes={'IdType': 'pubmed'})]\n",
      "PMC2945278\n",
      "3 [StringElement('10.1186/s12918-018-0560-3', attributes={'IdType': 'doi'}), StringElement('PMC5879778', attributes={'IdType': 'pmc'}), StringElement('29606139', attributes={'IdType': 'pubmed'})]\n",
      "PMC5879778\n",
      "3 [StringElement('10.1016/j.devcel.2019.12.018', attributes={'IdType': 'doi'}), StringElement('PMC7204393', attributes={'IdType': 'pmc'}), StringElement('31991105', attributes={'IdType': 'pubmed'})]\n",
      "PMC7204393\n",
      "2 [StringElement('10.1111/rda.12835', attributes={'IdType': 'doi'}), StringElement('28025841', attributes={'IdType': 'pubmed'})]\n",
      "2 [StringElement('10.1016/j.tcb.2019.05.002', attributes={'IdType': 'doi'}), StringElement('31248787', attributes={'IdType': 'pubmed'})]\n",
      "3 [StringElement('10.1242/jcs.051011', attributes={'IdType': 'doi'}), StringElement('PMC2758797', attributes={'IdType': 'pmc'}), StringElement('19812304', attributes={'IdType': 'pubmed'})]\n",
      "PMC2758797\n",
      "2 [StringElement('10.1530/REP-19-0057', attributes={'IdType': 'doi'}), StringElement('31786539', attributes={'IdType': 'pubmed'})]\n",
      "3 [StringElement('10.1002/1873-3468.13608', attributes={'IdType': 'doi'}), StringElement('PMC7034665', attributes={'IdType': 'pmc'}), StringElement('31531979', attributes={'IdType': 'pubmed'})]\n",
      "PMC7034665\n",
      "2 [StringElement('10.1016/j.bbagen.2020.129612', attributes={'IdType': 'doi'}), StringElement('32272203', attributes={'IdType': 'pubmed'})]\n",
      "2 [StringElement('10.1002/stem.2998', attributes={'IdType': 'doi'}), StringElement('30835892', attributes={'IdType': 'pubmed'})]\n",
      "3 [StringElement('10.3390/jpm11040247', attributes={'IdType': 'doi'}), StringElement('PMC8066657', attributes={'IdType': 'pmc'}), StringElement('33808091', attributes={'IdType': 'pubmed'})]\n",
      "PMC8066657\n",
      "3 [StringElement('10.4161/cc.19879', attributes={'IdType': 'doi'}), StringElement('PMC3372394', attributes={'IdType': 'pmc'}), StringElement('22510571', attributes={'IdType': 'pubmed'})]\n",
      "PMC3372394\n",
      "3 [StringElement('10.1016/j.molcel.2010.09.026', attributes={'IdType': 'doi'}), StringElement('PMC2993060', attributes={'IdType': 'pmc'}), StringElement('20965424', attributes={'IdType': 'pubmed'})]\n",
      "PMC2993060\n",
      "2 [StringElement('10.1007/978-1-4939-7371-2_1', attributes={'IdType': 'doi'}), StringElement('29030809', attributes={'IdType': 'pubmed'})]\n",
      "2 [StringElement('10.1002/jat.3749', attributes={'IdType': 'doi'}), StringElement('30484873', attributes={'IdType': 'pubmed'})]\n",
      "3 [StringElement('10.1186/1471-2121-12-32', attributes={'IdType': 'doi'}), StringElement('PMC3166919', attributes={'IdType': 'pmc'}), StringElement('21827650', attributes={'IdType': 'pubmed'})]\n",
      "PMC3166919\n",
      "2 [StringElement('10.1016/j.bbrc.2006.05.169', attributes={'IdType': 'doi'}), StringElement('16814746', attributes={'IdType': 'pubmed'})]\n",
      "2 [StringElement('10.1242/jcs.03004', attributes={'IdType': 'doi'}), StringElement('16772336', attributes={'IdType': 'pubmed'})]\n",
      "2 [StringElement('10.1016/j.cmet.2006.01.012', attributes={'IdType': 'doi'}), StringElement('16517406', attributes={'IdType': 'pubmed'})]\n",
      "2 [StringElement('10.1016/j.mam.2015.09.004', attributes={'IdType': 'doi'}), StringElement('26549347', attributes={'IdType': 'pubmed'})]\n",
      "3 [StringElement('10.1371/journal.pone.0131663', attributes={'IdType': 'doi'}), StringElement('PMC4493017', attributes={'IdType': 'pmc'}), StringElement('26147621', attributes={'IdType': 'pubmed'})]\n",
      "PMC4493017\n",
      "2 [StringElement('10.1016/j.cmet.2006.02.002', attributes={'IdType': 'doi'}), StringElement('16517405', attributes={'IdType': 'pubmed'})]\n",
      "3 [StringElement('10.1155/2015/105135', attributes={'IdType': 'doi'}), StringElement('PMC4530287', attributes={'IdType': 'pmc'}), StringElement('26273419', attributes={'IdType': 'pubmed'})]\n",
      "PMC4530287\n",
      "3 [StringElement('10.1016/j.cell.2015.12.033', attributes={'IdType': 'doi'}), StringElement('PMC4752822', attributes={'IdType': 'pmc'}), StringElement('26871632', attributes={'IdType': 'pubmed'})]\n",
      "PMC4752822\n",
      "3 [StringElement('10.3390/biom9080339', attributes={'IdType': 'doi'}), StringElement('PMC6722594', attributes={'IdType': 'pmc'}), StringElement('31382593', attributes={'IdType': 'pubmed'})]\n",
      "PMC6722594\n",
      "3 [StringElement('10.1038/nature20578', attributes={'IdType': 'doi'}), StringElement('PMC5143278', attributes={'IdType': 'pmc'}), StringElement('27880763', attributes={'IdType': 'pubmed'})]\n",
      "PMC5143278\n",
      "3 [StringElement('10.1128/am.14.6.985-988.1966', attributes={'IdType': 'doi'}), StringElement('PMC1058453', attributes={'IdType': 'pmc'}), StringElement('16349706', attributes={'IdType': 'pubmed'})]\n",
      "PMC1058453\n",
      "1 [StringElement('25416364', attributes={'IdType': 'pubmed'})]\n"
     ]
    }
   ],
   "source": [
    "for r in ref:\n",
    "    print(len(r['ArticleIdList']),r['ArticleIdList'])\n",
    "    for t in r['ArticleIdList']:\n",
    "        if t.attributes['IdType'] == 'pmc':\n",
    "            print(t)\n",
    "\n"
   ]
  },
  {
   "cell_type": "code",
   "execution_count": 30,
   "metadata": {},
   "outputs": [
    {
     "name": "stdout",
     "output_type": "stream",
     "text": [
      "imgs\\PMC8998189\n",
      "==============================\n",
      "4 figures and legends extracted.\n",
      "==========================================\n",
      "[1–3] \n",
      " Introduction\n",
      "Mesenchymal stem cells (MSCs) have been consistently reported as promising candi-\n",
      "dates in functional tissue engineering and regenerative therapies [1–3]\n",
      "-------------------------------------------\n",
      "Analysis process: \n",
      "\n",
      "Based on the provided paragraph, it suggests that the article is discussing the potential of mesenchymal stem cells (MSCs) in functional tissue engineering and regenerative therapies. There is no specific mention of the growth of these cells in different oxygen concentration environments. \n",
      "\n",
      "Conclusion: No.\n",
      "==========================================\n",
      "[4] \n",
      "  The umbilical cord\n",
      "comprises a speciﬁc stem cell niche where precise oxygen (O2) levels are paramount to\n",
      "maintain and optimize stem cell function. In this tissue, umbilical cord-mesenchymal stem\n",
      "cells (UC-MSCs) reside under hypoxic conditions, ranging from less than 1% O2 (severe\n",
      "hypoxia) to 5% O2 (moderate hypoxia) [4]\n",
      "-------------------------------------------\n",
      "Analysis process: The article discusses the umbilical cord and its specific stem cell niche, where the oxygen levels are crucial for maintaining and optimizing stem cell function. It specifically mentions that umbilical cord-mesenchymal stem cells (UC-MSCs) reside under varying degrees of hypoxic conditions, from severe hypoxia to moderate hypoxia. \n",
      "\n",
      "Conclusion: Yes, the article is about the growth of certain cells (UC-MSCs) in different oxygen concentration environments.\n",
      "cite nums: [4]\n",
      "==========================================\n",
      "[5,6] \n",
      " \n",
      "The hypoxia-inducible factor 1 (HIF-1) complex has emerged as one of the main\n",
      "components of hypoxia response in most cell lines [5,6]\n",
      "-------------------------------------------\n",
      "Analysis process:\n",
      "\n",
      "1. The article mentions the hypoxia-inducible factor 1 (HIF-1) complex as a main component of hypoxia response in most cell lines.\n",
      "2. The term \"hypoxia response\" suggests that the article is discussing how cells react and adapt to low oxygen levels.\n",
      "3. The mention of \"most cell lines\" implies that the discussion is not limited to specific types of cells but rather a general phenomenon.\n",
      "4. The presence of the HIF-1 complex in hypoxia response indicates that it plays a role in regulating cellular adaptation to low oxygen levels.\n",
      "\n",
      "Conclusion: Yes, based on the information provided, it can be concluded that the article is about the growth of certain cells in different oxygen concentration environments, specifically focusing on the hypoxia response and the involvement of the HIF-1 complex.\n",
      "cite nums: [5, 6]\n",
      "==========================================\n",
      "[6] \n",
      "  One of its isomers, HIF-1α, is a\n",
      "transcriptional factor regulated by O2 and mobilized by hypoxia, with the crucial role of\n",
      "suppressing mitochondrial respiration while increasing glycolytic enzyme expression [6]\n",
      "-------------------------------------------\n",
      "Analysis process: \n",
      "\n",
      "The paragraph mentions that HIF-1α is a transcriptional factor regulated by O2 and mobilized by hypoxia. It also states that HIF-1α suppresses mitochondrial respiration while increasing glycolytic enzyme expression. \n",
      "\n",
      "Based on this information, it is likely that the article is discussing the regulation of cellular respiration in response to oxygen concentration, specifically focusing on the role of HIF-1α in suppressing mitochondrial respiration and promoting glycolytic enzyme expression. Therefore, the article is likely about the adaptation of cells to different oxygen concentration environments. \n",
      "\n",
      "Conclusion: Yes.\n",
      "cite nums: [6]\n",
      "==========================================\n",
      "[7] \n",
      " \n",
      "Given that MSCs reside under these hypoxic physiological settings, in vitro culture un-\n",
      "der atmospheric oxygen concentrations (21% O2, normoxia) can be detrimental to the\n",
      "therapeutic value of MSCs, by hindering their plasticity, proliferation, and clonogenic\n",
      "capacity [7]\n",
      "-------------------------------------------\n",
      "Analysis process:\n",
      "1. The paragraph mentions MSCs, which stands for mesenchymal stem cells.\n",
      "2. It states that these cells reside under hypoxic physiological settings, which means they thrive in low oxygen environments.\n",
      "3. In vitro culture under atmospheric oxygen concentrations (normoxia) is said to be detrimental to the therapeutic value of MSCs.\n",
      "4. The reasons given for this detriment are hindering plasticity, proliferation, and clonogenic capacity.\n",
      "\n",
      "Conclusion: Yes, the article is about the growth of mesenchymal stem cells in different oxygen concentration environments.\n",
      "cite nums: [7]\n",
      "==========================================\n",
      "[8] \n",
      " \n",
      "In recent years, hypoxia preconditioning has been acknowledged as an adequate\n",
      "priming technique to both enhance and preserve MSC bioactivity and biological identity,\n",
      "respectively [8]\n",
      "-------------------------------------------\n",
      "Analysis process: \n",
      "The paragraph mentions hypoxia preconditioning as a technique to enhance and preserve MSC (Mesenchymal Stem Cell) bioactivity and biological identity. \n",
      "\n",
      "Conclusion: Yes. \n",
      "Based on the mention of MSCs and hypoxia preconditioning, it can be concluded that the article is about the growth of certain cells (MSCs) in different oxygen concentration environments.\n",
      "cite nums: [8]\n",
      "==========================================\n",
      "[9–11] \n",
      "  Nevertheless, studies on hypoxia preconditioning predominantly show\n",
      "the effects of moderate hypoxia on MSC differentiation and expansion—with several au-\n",
      "thors reporting an increase in proliferation following hypoxic treatment [9–11]\n",
      "-------------------------------------------\n",
      "Analysis process: \n",
      "\n",
      "The paragraph discusses studies on hypoxia preconditioning and its effects on MSC (mesenchymal stem cell) differentiation and expansion. The studies specifically focus on the effects of moderate hypoxia on cell proliferation. \n",
      "\n",
      "Conclusion: Yes, the article is about the growth of certain cells (MSCs) in different oxygen concentration environments.\n",
      "cite nums: [9, 10, 11]\n",
      "==========================================\n",
      "[12,13] \n",
      "  However,\n",
      "Int. J. Mol. Sci. 2022, 23, 3749. https://doi.org/10.3390/ijms23073749\n",
      "https://www.mdpi.com/journal/ijms\n",
      "Int. J. Mol. Sci. 2022, 23, 3749\n",
      "2 of 13\n",
      "severe hypoxia may have underlying advantages and might be key to promoting a hypo-\n",
      "proliferative state that safeguards the cell and guarantees its longevity. In fact, numerous\n",
      "organisms and cell lines temporarily cease cellular activity as a protective mechanism\n",
      "against adverse environmental conditions (e.g., nutrient depletion) [12,13]\n",
      "-------------------------------------------\n",
      "Analysis process: \n",
      "\n",
      "Based on the provided paragraph, we can observe that the paragraph discusses the potential advantages of severe hypoxia and its role in promoting a hypo-proliferative state that safeguards cells and ensures their longevity. The paragraph also mentions how organisms and cell lines temporarily cease cellular activity as a protective mechanism against adverse environmental conditions like nutrient depletion. \n",
      "\n",
      "Conclusion: No, the article is not specifically about the growth of certain cells in different oxygen concentration environments. It focuses on the protective mechanisms and potential benefits of severe hypoxia in cells.\n",
      "==========================================\n",
      "[14] \n",
      "  This transitory\n",
      "arrest allows the cell to escape cellular senescence, DNA damage and oxidative stress asso-\n",
      "ciated with oxidative phosphorylation (OXPHOS) [14]\n",
      "-------------------------------------------\n",
      "Analysis process: \n",
      "The paragraph discusses how a \"transitory arrest\" allows the cell to escape cellular senescence, DNA damage, and oxidative stress associated with oxidative phosphorylation (OXPHOS). This indicates that the article is focused on the effects of cellular senescence, DNA damage, and oxidative stress on cells. It does not specifically mention the growth of certain cells in different oxygen concentration environments. \n",
      "\n",
      "Conclusion: No.\n",
      "==========================================\n",
      "[14] \n",
      "  and this preconditioning technique\n",
      "might be beneﬁcial for the long-term survival of MSCs.\n",
      "Quiescence is frequently associated with a suppression in global protein synthesis,\n",
      "metabolic activity, and energetic demand [14]\n",
      "-------------------------------------------\n",
      "Analysis process: \n",
      "\n",
      "The article mentions a preconditioning technique that could be beneficial for the long-term survival of MSCs (mesenchymal stem cells). It also states that quiescence, which is often associated with a suppression in global protein synthesis, metabolic activity, and energetic demand, is frequently observed in this context. \n",
      "\n",
      "Conclusion: No, the article is not specifically about the growth of certain cells in different oxygen concentration environments. It is more focused on the preconditioning technique and the impact of quiescence on the survival of MSCs.\n",
      "==========================================\n",
      "[15] \n",
      "  In this regard, the mammalian target of\n",
      "rapamycin (mTOR) pathway plays a key role acting as a sensor and integrator of a large\n",
      "variety of environmental cues (e.g., growth factors, nutrients, and O2 tension) that are linked\n",
      "to cell cycle arrest, metabolic quiescence, and biosynthetic requirements [15]\n",
      "-------------------------------------------\n",
      "Analysis process | Conclusion: Yes.\n",
      "\n",
      "The article mentions that the mammalian target of rapamycin (mTOR) pathway plays a key role in sensing and integrating environmental cues such as nutrients and oxygen tension. This indicates that the article is likely discussing the growth and behavior of cells in different oxygen concentration environments, among other factors.\n",
      "cite nums: [15]\n",
      "==========================================\n",
      "[16–19] \n",
      "  Moreover,\n",
      "the pharmacological inhibition of both mTOR complexes (mTORC1 and mTORC2) with\n",
      "INK-128 has been proven to induce a reversible “paused-like” state in mouse embryonic\n",
      "stem cells (mESCs) and bone marrow MSCs (BM-MSCs) [16–19]\n",
      "-------------------------------------------\n",
      "Analysis process: \n",
      "Based on the information provided, the paragraph discusses the pharmacological inhibition of both mTOR complexes (mTORC1 and mTORC2) using INK-128, which has been shown to induce a \"paused-like\" state in mouse embryonic stem cells (mESCs) and bone marrow MSCs (BM-MSCs). \n",
      "\n",
      "Conclusion: No. The article is not about the growth of certain cells in different oxygen concentration environments. Rather, it focuses on the effect of inhibiting mTOR complexes using INK-128 on the cells mentioned.\n",
      "==========================================\n",
      "[20] \n",
      " \n",
      "While hypoxic settings are primarily induced by decreasing O2 concentrations, some\n",
      "chemical hypoxia-mimetic agents (e.g., cobalt chloride) have been indiscriminately used as\n",
      "a substitute for physical hypoxia, despite the still elusive effects prompted by this alternate\n",
      "method [20]\n",
      "-------------------------------------------\n",
      "Analysis process: \n",
      "1. The paragraph mentions hypoxic settings and decreasing O2 concentrations, indicating that the article may be discussing the effects of low oxygen environments on cells.\n",
      "2. The paragraph also mentions the use of chemical agents as a substitute for physical hypoxia, suggesting that the article may explore the effects of these agents on cell growth.\n",
      "3. However, the paragraph does not explicitly state that the article is about the growth of certain cells in different oxygen concentration environments.\n",
      "\n",
      "Conclusion: No.\n"
     ]
    }
   ],
   "source": [
    "if success_download_flag:\n",
    "    # try:\n",
    "    introduction = extract_introduction_from_pdf(file_path)\n",
    "    img_path = os.path.join(img_folder, f\"PMC{pmc_id}\")\n",
    "    print(img_path)\n",
    "    legends,imgs = extract_images_and_text_below(file_path,img_path)\n",
    "    pattern = r'\\[\\d+([–-]\\d+)?(,\\d+([–-]\\d+)?)*\\]'\n",
    "    matches = re.finditer(pattern, introduction)\n",
    "    start = 0\n",
    "\n",
    "    for m in matches:\n",
    "        print(\"==========================================\")\n",
    "        citation_nums = m.group()\n",
    "        citation = introduction[start:m.end()]\n",
    "        start = m.end()+1\n",
    "        print(citation_nums,'\\n',citation)\n",
    "        \n",
    "        result = analysis_citation(citation)\n",
    "        print(\"-------------------------------------------\")\n",
    "        print(result)\n",
    "        cites = []\n",
    "        if \"Conclusion: Yes\" in result:\n",
    "            if '–' in citation_nums:\n",
    "                s = citation_nums[1:-1].split('–')[0]\n",
    "                e = citation_nums[1:-1].split('–')[1]\n",
    "                for i in range(int(s),int(e)+1):\n",
    "                    cites.append(i)\n",
    "\n",
    "            elif '-' in citation_nums:\n",
    "                s = citation_nums[1:-1].split('-')[0]\n",
    "                e = citation_nums[1:-1].split('-')[1]\n",
    "                for i in range(int(s),int(e)+1):\n",
    "                    cites.append(i)\n",
    "\n",
    "            elif ',' in citation_nums:\n",
    "\n",
    "                for i in citation_nums[1:-1].split(','):\n",
    "                    cites.append(int(i))\n",
    "            else:\n",
    "\n",
    "                cites.append(int(citation_nums[1:-1]))\n",
    "            print(\"cite nums:\",cites)            \n",
    "            \n",
    "            "
   ]
  },
  {
   "cell_type": "code",
   "execution_count": 25,
   "metadata": {},
   "outputs": [
    {
     "data": {
      "text/plain": [
       "'[20]'"
      ]
     },
     "execution_count": 25,
     "metadata": {},
     "output_type": "execute_result"
    }
   ],
   "source": [
    "citation_nums"
   ]
  },
  {
   "cell_type": "code",
   "execution_count": null,
   "metadata": {},
   "outputs": [],
   "source": []
  },
  {
   "cell_type": "code",
   "execution_count": 28,
   "metadata": {},
   "outputs": [
    {
     "name": "stdout",
     "output_type": "stream",
     "text": [
      "20\n"
     ]
    }
   ],
   "source": [
    "if '–' in citation_nums:\n",
    "    s = citation_nums[1:-1].split('–')[0]\n",
    "    e = citation_nums[1:-1].split('–')[1]\n",
    "    print(s,e)\n",
    "\n",
    "elif '-' in citation_nums:\n",
    "    s = citation_nums[1:-1].split('-')[0]\n",
    "    e = citation_nums[1:-1].split('-')[1]\n",
    "    print(s,e)\n",
    "\n",
    "elif ',' in citation_nums:\n",
    "    print(citation_nums[1:-2].split(','))\n",
    "else:\n",
    "    print(citation_nums[1:-1])"
   ]
  },
  {
   "cell_type": "code",
   "execution_count": 49,
   "metadata": {},
   "outputs": [
    {
     "data": {
      "text/plain": [
       "[1, 1]"
      ]
     },
     "execution_count": 49,
     "metadata": {},
     "output_type": "execute_result"
    }
   ],
   "source": [
    "list(df.iloc[:,0])"
   ]
  },
  {
   "cell_type": "code",
   "execution_count": 35,
   "metadata": {},
   "outputs": [],
   "source": [
    "df.loc[len(df)] = 1"
   ]
  },
  {
   "cell_type": "code",
   "execution_count": 48,
   "metadata": {},
   "outputs": [
    {
     "data": {
      "text/plain": [
       "list"
      ]
     },
     "execution_count": 48,
     "metadata": {},
     "output_type": "execute_result"
    }
   ],
   "source": [
    "type([])"
   ]
  },
  {
   "cell_type": "code",
   "execution_count": 37,
   "metadata": {},
   "outputs": [],
   "source": [
    "df = df.drop(df.index[0])"
   ]
  },
  {
   "cell_type": "code",
   "execution_count": 40,
   "metadata": {},
   "outputs": [],
   "source": [
    "df.to_csv('test.csv',header=None,index=None)"
   ]
  }
 ],
 "metadata": {
  "kernelspec": {
   "display_name": "bio",
   "language": "python",
   "name": "python3"
  },
  "language_info": {
   "codemirror_mode": {
    "name": "ipython",
    "version": 3
   },
   "file_extension": ".py",
   "mimetype": "text/x-python",
   "name": "python",
   "nbconvert_exporter": "python",
   "pygments_lexer": "ipython3",
   "version": "3.10.13"
  }
 },
 "nbformat": 4,
 "nbformat_minor": 2
}
